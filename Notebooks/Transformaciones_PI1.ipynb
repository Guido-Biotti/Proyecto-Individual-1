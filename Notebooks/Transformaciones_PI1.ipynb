{
 "cells": [
  {
   "cell_type": "markdown",
   "metadata": {},
   "source": [
    "Para empezar con el proyecto cargo las librerias a usar"
   ]
  },
  {
   "cell_type": "code",
   "execution_count": 2,
   "metadata": {},
   "outputs": [],
   "source": [
    "import pandas as pd\n",
    "import sys\n",
    "import os\n",
    "\n",
    "sys.path.append(os.path.abspath(os.path.join('..')))\n",
    "\n",
    "import Funciones_aux as fa\n",
    "from ast import literal_eval \n"
   ]
  },
  {
   "cell_type": "markdown",
   "metadata": {},
   "source": [
    "Ahora cargo los datos de los .csv"
   ]
  },
  {
   "cell_type": "code",
   "execution_count": 13,
   "metadata": {},
   "outputs": [
    {
     "name": "stderr",
     "output_type": "stream",
     "text": [
      "C:\\Users\\biott\\AppData\\Local\\Temp\\ipykernel_11632\\3807620164.py:2: DtypeWarning: Columns (10) have mixed types. Specify dtype option on import or set low_memory=False.\n",
      "  movies = pd.read_csv(ruta_movies)\n"
     ]
    }
   ],
   "source": [
    "ruta_movies = '../data/movies_dataset.csv'\n",
    "movies = pd.read_csv(ruta_movies)\n",
    "\n",
    "ruta_credits = '../data/credits.csv'\n",
    "credits = pd.read_csv(ruta_credits)"
   ]
  },
  {
   "cell_type": "markdown",
   "metadata": {},
   "source": [
    "Combino los dos archivos .csv en un solo archivo para asi poder trabajar con ambos de una forma mas sencilla"
   ]
  },
  {
   "cell_type": "code",
   "execution_count": 14,
   "metadata": {},
   "outputs": [],
   "source": [
    "movies_full = pd.concat([movies, credits], axis=1, ignore_index=False)"
   ]
  },
  {
   "cell_type": "markdown",
   "metadata": {},
   "source": [
    "### Transformaciones\n",
    "\n",
    "Ahora empiezo a limpiar y trabajar el dataframe"
   ]
  },
  {
   "cell_type": "code",
   "execution_count": 15,
   "metadata": {},
   "outputs": [
    {
     "name": "stderr",
     "output_type": "stream",
     "text": [
      "C:\\Users\\biott\\AppData\\Local\\Temp\\ipykernel_11632\\3876144179.py:2: FutureWarning: A value is trying to be set on a copy of a DataFrame or Series through chained assignment using an inplace method.\n",
      "The behavior will change in pandas 3.0. This inplace method will never work because the intermediate object on which we are setting values always behaves as a copy.\n",
      "\n",
      "For example, when doing 'df[col].method(value, inplace=True)', try using 'df.method({col: value}, inplace=True)' or df[col] = df[col].method(value) instead, to perform the operation inplace on the original object.\n",
      "\n",
      "\n",
      "  movies_full['revenue'].fillna(0, inplace=True)\n"
     ]
    }
   ],
   "source": [
    "#Primero relleno los NA de revenue y budget con 0\n",
    "movies_full['revenue'].fillna(0, inplace=True)\n",
    "movies_full['budget'] = pd.to_numeric(movies_full['budget'], errors='coerce').fillna(0) #Chequeo que sean numeros ya que estaba tomando algunos valores que no lo eran y no permitia funcionar al codigo\n",
    "\n",
    "#Empiezo a trabajar con la columna release_date\n",
    "#Sigo por borrar las columnas que no tenga una fecha valida\n",
    "movies_full = movies_full.dropna(subset=['release_date'])\n",
    "#Me aseguro de que todas las fechas de esta esten en el formato correcto\n",
    "movies_full['release_date'] = pd.to_datetime(movies_full['release_date'], errors='coerce')\n",
    "movies_full = movies_full.dropna(subset=['release_date'])\n",
    "#Creo una columna day_of_week y una columna month para usar luego en las funciones\n",
    "movies_full['month'] = movies_full['release_date'].dt.month.astype(int)\n",
    "movies_full['day_of_week'] = movies_full['release_date'].dt.dayofweek.astype(int)\n",
    "\n",
    "#Y genero la columna release_year con los valores de año de release_date\n",
    "movies_full['release_year'] = movies_full['release_date'].dt.year\n",
    "\n",
    "#Despues elimino las columnas que no voy a utilizar\n",
    "movies_full.drop(columns=['video', 'imdb_id', 'adult', 'original_title', 'poster_path', 'homepage'])\n",
    "\n",
    "#Ahora creo la columna return con los valores de revenue/budget o 0 si no es posible\n",
    "movies_full['return'] = movies_full.apply(lambda fila: fila['revenue']/ fila['budget'] if fila['budget'] > 0 else 0, axis=1)\n",
    "\n",
    "#Y ahora desanido las columnas que contienen diccionarios y listas usando las funciones auxiliares que cree\n",
    "movies_full['belongs_to_collection'] = movies_full['belongs_to_collection'].apply(fa.get_collection_name)\n",
    "movies_full['genres'] = movies_full['genres'].apply(fa.get_genre_names)\n",
    "movies_full['production_companies'] = movies_full['production_companies'].apply(fa.get_companies_names)\n",
    "movies_full['production_countries'] = movies_full['production_countries'].apply(fa.get_country_iso)\n",
    "movies_full['spoken_languages'] = movies_full['spoken_languages'].apply(fa.get_language_iso)\n",
    "\n"
   ]
  },
  {
   "cell_type": "markdown",
   "metadata": {},
   "source": [
    "Por ultimo guardo una muestra aleatoria del dataset original"
   ]
  },
  {
   "cell_type": "code",
   "execution_count": 18,
   "metadata": {},
   "outputs": [],
   "source": [
    "movies_sample = movies_full.sample(frac=0.2, random_state=42)\n",
    "ruta_movies_sample = '../data/movies_sample.csv'\n",
    "movies_sample.to_csv(ruta_movies_sample, index=False)"
   ]
  }
 ],
 "metadata": {
  "kernelspec": {
   "display_name": "Python 3",
   "language": "python",
   "name": "python3"
  },
  "language_info": {
   "codemirror_mode": {
    "name": "ipython",
    "version": 3
   },
   "file_extension": ".py",
   "mimetype": "text/x-python",
   "name": "python",
   "nbconvert_exporter": "python",
   "pygments_lexer": "ipython3",
   "version": "3.12.4"
  }
 },
 "nbformat": 4,
 "nbformat_minor": 2
}
