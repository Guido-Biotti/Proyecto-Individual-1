{
 "cells": [
  {
   "cell_type": "markdown",
   "metadata": {},
   "source": [
    "Para empezar con el proyecto cargo las librerias a usar"
   ]
  },
  {
   "cell_type": "code",
   "execution_count": 2,
   "metadata": {},
   "outputs": [
    {
     "ename": "ModuleNotFoundError",
     "evalue": "No module named 'Funciones_aux'",
     "output_type": "error",
     "traceback": [
      "\u001b[1;31m---------------------------------------------------------------------------\u001b[0m",
      "\u001b[1;31mModuleNotFoundError\u001b[0m                       Traceback (most recent call last)",
      "Cell \u001b[1;32mIn[2], line 2\u001b[0m\n\u001b[0;32m      1\u001b[0m \u001b[38;5;28;01mimport\u001b[39;00m \u001b[38;5;21;01mpandas\u001b[39;00m \u001b[38;5;28;01mas\u001b[39;00m \u001b[38;5;21;01mpd\u001b[39;00m\n\u001b[1;32m----> 2\u001b[0m \u001b[38;5;28;01mimport\u001b[39;00m \u001b[38;5;21;01mFunciones_aux\u001b[39;00m \u001b[38;5;28;01mas\u001b[39;00m \u001b[38;5;21;01mfa\u001b[39;00m\n\u001b[0;32m      3\u001b[0m \u001b[38;5;28;01mfrom\u001b[39;00m \u001b[38;5;21;01mast\u001b[39;00m \u001b[38;5;28;01mimport\u001b[39;00m literal_eval \n\u001b[0;32m      4\u001b[0m \u001b[38;5;28;01mimport\u001b[39;00m \u001b[38;5;21;01mmain\u001b[39;00m\n",
      "\u001b[1;31mModuleNotFoundError\u001b[0m: No module named 'Funciones_aux'"
     ]
    }
   ],
   "source": [
    "import pandas as pd\n",
    "import Funciones_aux as fa\n",
    "from ast import literal_eval \n",
    "import main\n"
   ]
  },
  {
   "cell_type": "markdown",
   "metadata": {},
   "source": [
    "Ahora cargo los datos de los .csv"
   ]
  },
  {
   "cell_type": "code",
   "execution_count": 1,
   "metadata": {},
   "outputs": [
    {
     "ename": "NameError",
     "evalue": "name 'pd' is not defined",
     "output_type": "error",
     "traceback": [
      "\u001b[1;31m---------------------------------------------------------------------------\u001b[0m",
      "\u001b[1;31mNameError\u001b[0m                                 Traceback (most recent call last)",
      "Cell \u001b[1;32mIn[1], line 2\u001b[0m\n\u001b[0;32m      1\u001b[0m ruta_movies \u001b[38;5;241m=\u001b[39m \u001b[38;5;124m'\u001b[39m\u001b[38;5;124m../data/movies_dataset.csv\u001b[39m\u001b[38;5;124m'\u001b[39m\n\u001b[1;32m----> 2\u001b[0m movies \u001b[38;5;241m=\u001b[39m \u001b[43mpd\u001b[49m\u001b[38;5;241m.\u001b[39mread_csv(ruta_movies)\n\u001b[0;32m      4\u001b[0m ruta_credits \u001b[38;5;241m=\u001b[39m \u001b[38;5;124m'\u001b[39m\u001b[38;5;124m../data/credits.csv\u001b[39m\u001b[38;5;124m'\u001b[39m\n\u001b[0;32m      5\u001b[0m credits \u001b[38;5;241m=\u001b[39m pd\u001b[38;5;241m.\u001b[39mread_csv(ruta_credits)\n",
      "\u001b[1;31mNameError\u001b[0m: name 'pd' is not defined"
     ]
    }
   ],
   "source": [
    "ruta_movies = '../data/movies_dataset.csv'\n",
    "movies = pd.read_csv(ruta_movies)\n",
    "\n",
    "ruta_credits = '../data/credits.csv'\n",
    "credits = pd.read_csv(ruta_credits)"
   ]
  },
  {
   "cell_type": "markdown",
   "metadata": {},
   "source": [
    "Combino los dos archivos .csv en un solo archivo para asi poder trabajar con ambos de una forma mas sencilla"
   ]
  },
  {
   "cell_type": "code",
   "execution_count": 3,
   "metadata": {},
   "outputs": [],
   "source": [
    "movies_full = pd.concat([movies, credits], axis=1, ignore_index=False)"
   ]
  },
  {
   "cell_type": "markdown",
   "metadata": {},
   "source": [
    "### Transformaciones\n",
    "\n",
    "Ahora empiezo a limpiar y trabajar el dataframe"
   ]
  },
  {
   "cell_type": "code",
   "execution_count": 4,
   "metadata": {},
   "outputs": [
    {
     "name": "stderr",
     "output_type": "stream",
     "text": [
      "C:\\Users\\biott\\AppData\\Local\\Temp\\ipykernel_14204\\3876144179.py:2: FutureWarning: A value is trying to be set on a copy of a DataFrame or Series through chained assignment using an inplace method.\n",
      "The behavior will change in pandas 3.0. This inplace method will never work because the intermediate object on which we are setting values always behaves as a copy.\n",
      "\n",
      "For example, when doing 'df[col].method(value, inplace=True)', try using 'df.method({col: value}, inplace=True)' or df[col] = df[col].method(value) instead, to perform the operation inplace on the original object.\n",
      "\n",
      "\n",
      "  movies_full['revenue'].fillna(0, inplace=True)\n"
     ]
    }
   ],
   "source": [
    "#Primero relleno los NA de revenue y budget con 0\n",
    "movies_full['revenue'].fillna(0, inplace=True)\n",
    "movies_full['budget'] = pd.to_numeric(movies_full['budget'], errors='coerce').fillna(0) #Chequeo que sean numeros ya que estaba tomando algunos valores que no lo eran y no permitia funcionar al codigo\n",
    "\n",
    "#Empiezo a trabajar con la columna release_date\n",
    "#Sigo por borrar las columnas que no tenga una fecha valida\n",
    "movies_full = movies_full.dropna(subset=['release_date'])\n",
    "#Me aseguro de que todas las fechas de esta esten en el formato correcto\n",
    "movies_full['release_date'] = pd.to_datetime(movies_full['release_date'], errors='coerce')\n",
    "movies_full = movies_full.dropna(subset=['release_date'])\n",
    "#Creo una columna day_of_week y una columna month para usar luego en las funciones\n",
    "movies_full['month'] = movies_full['release_date'].dt.month.astype(int)\n",
    "movies_full['day_of_week'] = movies_full['release_date'].dt.dayofweek.astype(int)\n",
    "\n",
    "#Y genero la columna release_year con los valores de año de release_date\n",
    "movies_full['release_year'] = movies_full['release_date'].dt.year\n",
    "\n",
    "#Despues elimino las columnas que no voy a utilizar\n",
    "movies_full.drop(columns=['video', 'imdb_id', 'adult', 'original_title', 'poster_path', 'homepage'])\n",
    "\n",
    "#Ahora creo la columna return con los valores de revenue/budget o 0 si no es posible\n",
    "movies_full['return'] = movies_full.apply(lambda fila: fila['revenue']/ fila['budget'] if fila['budget'] > 0 else 0, axis=1)\n",
    "\n",
    "#Y ahora desanido las columnas que contienen diccionarios y listas usando las funciones auxiliares que cree\n",
    "movies_full['belongs_to_collection'] = movies_full['belongs_to_collection'].apply(fa.get_collection_name)\n",
    "movies_full['genres'] = movies_full['genres'].apply(fa.get_genre_names)\n",
    "movies_full['production_companies'] = movies_full['production_companies'].apply(fa.get_companies_names)\n",
    "movies_full['production_countries'] = movies_full['production_countries'].apply(fa.get_country_iso)\n",
    "movies_full['spoken_languages'] = movies_full['spoken_languages'].apply(fa.get_language_iso)\n",
    "\n"
   ]
  },
  {
   "cell_type": "markdown",
   "metadata": {},
   "source": [
    "Por ultimo guardo una muestra aleatoria del dataset original"
   ]
  },
  {
   "cell_type": "code",
   "execution_count": 5,
   "metadata": {},
   "outputs": [],
   "source": [
    "movies_sample = movies_full.sample(frac=0.2, random_state=42)\n",
    "ruta_movies_sample = 'data/movies_sample.csv'\n",
    "movies_sample.to_csv(ruta_movies_sample, index=False)"
   ]
  }
 ],
 "metadata": {
  "kernelspec": {
   "display_name": "Python 3",
   "language": "python",
   "name": "python3"
  },
  "language_info": {
   "codemirror_mode": {
    "name": "ipython",
    "version": 3
   },
   "file_extension": ".py",
   "mimetype": "text/x-python",
   "name": "python",
   "nbconvert_exporter": "python",
   "pygments_lexer": "ipython3",
   "version": "3.12.4"
  }
 },
 "nbformat": 4,
 "nbformat_minor": 2
}
